{
 "cells": [
  {
   "cell_type": "markdown",
   "id": "42520b4e-0c2d-4fc6-8e28-724c1773aeb7",
   "metadata": {},
   "source": [
    "# Load the Book"
   ]
  },
  {
   "cell_type": "code",
   "execution_count": 6,
   "id": "e11aef4e-e64f-4de8-91d3-66854139ca40",
   "metadata": {},
   "outputs": [],
   "source": [
    "with open(\"miracle_in_the_andes.txt\", \"r\", encoding = \"utf-8\") as file:\n",
    "    book = file.read()"
   ]
  },
  {
   "cell_type": "code",
   "execution_count": 8,
   "id": "d76e68bb-6898-46f5-8c6b-a0ceffea8e14",
   "metadata": {},
   "outputs": [
    {
     "data": {
      "text/plain": [
       "str"
      ]
     },
     "execution_count": 8,
     "metadata": {},
     "output_type": "execute_result"
    }
   ],
   "source": [
    "type(book)"
   ]
  },
  {
   "cell_type": "markdown",
   "id": "f77f7461-1f25-4139-8585-5190906301ad",
   "metadata": {},
   "source": [
    "# How many chapters?"
   ]
  },
  {
   "cell_type": "markdown",
   "id": "4efd35ef-9923-43c9-8365-6a7a8f06cc7e",
   "metadata": {},
   "source": [
    "### With String Methods"
   ]
  },
  {
   "cell_type": "code",
   "execution_count": 11,
   "id": "a571c486-de31-4b71-9e8c-13d33bd9efe6",
   "metadata": {
    "scrolled": true
   },
   "outputs": [
    {
     "data": {
      "text/plain": [
       "11"
      ]
     },
     "execution_count": 11,
     "metadata": {},
     "output_type": "execute_result"
    }
   ],
   "source": [
    "book.count(\"Chapter\")"
   ]
  },
  {
   "cell_type": "markdown",
   "id": "06e0290a-91cb-48fc-a337-5d9a97137cdc",
   "metadata": {},
   "source": [
    "### With regex`"
   ]
  },
  {
   "cell_type": "code",
   "execution_count": 19,
   "id": "dc8f396e-da1a-4824-a57c-29a2337e46b5",
   "metadata": {},
   "outputs": [
    {
     "data": {
      "text/plain": [
       "['Chapter 1',\n",
       " 'Chapter 2',\n",
       " 'Chapter 3',\n",
       " 'Chapter 4',\n",
       " 'Chapter 5',\n",
       " 'Chapter 6',\n",
       " 'Chapter 7',\n",
       " 'Chapter 8',\n",
       " 'Chapter 9',\n",
       " 'Chapter 10']"
      ]
     },
     "execution_count": 19,
     "metadata": {},
     "output_type": "execute_result"
    }
   ],
   "source": [
    "import re\n",
    "pattern = re.compile(\"Chapter [0-9]+\")\n",
    "re.findall(pattern,book)"
   ]
  }
 ],
 "metadata": {
  "kernelspec": {
   "display_name": "Python 3 (ipykernel)",
   "language": "python",
   "name": "python3"
  },
  "language_info": {
   "codemirror_mode": {
    "name": "ipython",
    "version": 3
   },
   "file_extension": ".py",
   "mimetype": "text/x-python",
   "name": "python",
   "nbconvert_exporter": "python",
   "pygments_lexer": "ipython3",
   "version": "3.11.6"
  }
 },
 "nbformat": 4,
 "nbformat_minor": 5
}
